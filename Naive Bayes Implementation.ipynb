{
 "cells": [
  {
   "cell_type": "markdown",
   "id": "01710682",
   "metadata": {},
   "source": [
    "## Classifing Text Documents using Multinomial Naive Bayes\n",
    "In this exercise we will classify the \"20 newsgroups\" data set using our own naive bayes classifier and compare to the scikit learn built in version.\n",
    "\n",
    "The 20 newsgroups dataset comprises around 18000 newsgroups posts on 20 topics split in two subsets: one for training (or development) and the other one for testing (or for performance evaluation). The split between the train and test set is based upon messages posted before and after a specific date.\n",
    "\n",
    "### The Task\n",
    "Implement the barebone class provided: `NaiveBayes(BaseEstimator, ClassifierMixin)` and implement its `fit`, `predict` and `predict_proba` methods.\n",
    "\n",
    "Steps:\n",
    "* Load the **train** data using `from sklearn.datasets import fetch_20newsgroups`. remove headers, footers and quotes (see documentation)\n",
    "* Use `sklearn.feature_extraction.text import CountVectorizer` to count words (stop_words='english')\n",
    "* Use `sklearn.pipeline.make_pipeline` to chain the vectroizer and model.\n",
    "* note: limit the vocuabolary size if you suffer memory issues\n",
    "* compare the accuracy over the **test** data. You can use `accuracy_score, classification_report`\n",
    "* compare to the built in `sklearn.naive_bayes.MultinomialNB`\n",
    "* compare to `TfidfVectorizer` preprocessing (you can use the built in model for doing the analysis)\n",
    "* plot the learning curve - is the model in the bias or variance regime (you can use the built in model for doing the analysis)\n"
   ]
  },
  {
   "cell_type": "code",
   "execution_count": 1,
   "id": "05df6ed5",
   "metadata": {},
   "outputs": [],
   "source": [
    "from sklearn.base import BaseEstimator, ClassifierMixin\n",
    "from sklearn.datasets import fetch_20newsgroups\n",
    "from sklearn.feature_extraction.text import CountVectorizer, TfidfVectorizer\n",
    "from sklearn.naive_bayes import MultinomialNB\n",
    "from sklearn.metrics import confusion_matrix, accuracy_score\n",
    "from sklearn.pipeline import make_pipeline\n",
    "from sklearn.preprocessing import FunctionTransformer\n",
    "from sklearn.model_selection import learning_curve\n",
    "from collections import Counter\n",
    "from functools import reduce\n",
    "import numpy as np\n",
    "import pandas as pd"
   ]
  },
  {
   "cell_type": "code",
   "execution_count": 2,
   "id": "4735d3d4",
   "metadata": {},
   "outputs": [],
   "source": [
    "class NaiveBayes(BaseEstimator, ClassifierMixin):\n",
    "    \"\"\"\n",
    "    BaseEstimator and ClassifierMixin are imported from sklearn.base\n",
    "    \n",
    "    \n",
    "    Creating the multinomial naive bayes.\n",
    "    \n",
    "    \"\"\"\n",
    "    \n",
    "    def fit(self, x, y):\n",
    "        \n",
    "        \"\"\"\n",
    "        Input: \n",
    "        \n",
    "        x: numpy array, x_train\n",
    "        y: numpy array, y_train\n",
    "        both x and y must have the same length.\n",
    "        \n",
    "        output: None\n",
    "        \n",
    "        \n",
    "        predicting according to the following formula: \n",
    "        P(c|xi) = Count(specific_word_in_class) + 1 / (Num_of_words_in_class + total_vocabulary)\n",
    "        \"\"\"\n",
    "       \n",
    "        self.prior = Counter(y)  # saves all the priors for each class\n",
    "    \n",
    "        for cls, value in self.prior.items():\n",
    "            self.prior[cls] = value/len(y) # normalize with number of documents\n",
    "        \n",
    "        \n",
    "        \n",
    "        self.docs_in_class = {} # save each document to its corresponding class in a dicitonary\n",
    "        for i in range(len(x)):\n",
    "            if y[i] not in self.docs_in_class:\n",
    "                self.docs_in_class[y[i]] = list()\n",
    "            \n",
    "            self.docs_in_class[y[i]].append(x[i])\n",
    "            \n",
    "            \n",
    "        self.probabilities = {} # saves the P(c|xi)\n",
    "        for cls, documents in self.docs_in_class.items():\n",
    "            new_vec = np.zeros(len(documents[0]))\n",
    "            V = 0\n",
    "            \n",
    "            for doc in documents:\n",
    "                V = len(doc)\n",
    "                for xi in range(V):\n",
    "                    \n",
    "                    new_vec[xi] += doc[xi]\n",
    "            \n",
    "            total = sum(new_vec)\n",
    "            self.probabilities[cls] = (new_vec + 1) / (total + V) # According to formula\n",
    "            \n",
    "        \n",
    "\n",
    "    def predict_log_proba(self, x):\n",
    "        \n",
    "        \n",
    "        \"\"\"\n",
    "        Input: x numpy array\n",
    "        Output: numpy array with the shape: (len(x), number_of_class)\n",
    "        \n",
    "        For each document xi we need to calculate the P(class|xi) for each class\n",
    "        and save it in a vector\n",
    "        \"\"\"\n",
    "        \n",
    "        proba = []\n",
    "        \n",
    "        for i in range(len(x)): # loop thrugh every document\n",
    "            class_vector = np.zeros(len(self.prior)) # create the class vector that holds their probabilities\n",
    "            \n",
    "            for cls, pri in self.prior.items(): # loop for each class\n",
    "                \n",
    "                # formula: P(class|xi) = log(prior) + sigma(P(word|class)^num_word_in_class)\n",
    "                \n",
    "                prob_power = np.power(self.probabilities[cls], x[i])\n",
    "                prob_power = np.log(prob_power[prob_power != 0])\n",
    "                prob = np.log(pri) + np.sum(prob_power)\n",
    "                \n",
    "                class_vector[int(cls)] = prob \n",
    "            proba.append(class_vector)\n",
    "        return proba\n",
    "                \n",
    "        \n",
    "    def predict(self, x):\n",
    "        \n",
    "        \"\"\"\n",
    "        Input: x numpy array\n",
    "        Output: Numpy array with the shape: (len(x)) -> the classification of x of our model\n",
    "        \"\"\"\n",
    "        \n",
    "        proba = self.predict_log_proba(x) # fetch all log probabilities for each document\n",
    "   \n",
    "        predictions = []\n",
    "        for class_vector in proba: \n",
    "            cls = np.argmax(class_vector) # find the MLE for each document -> prediction\n",
    "            predictions.append(cls)\n",
    "            \n",
    "\n",
    "        return predictions\n",
    "    \n",
    "        "
   ]
  },
  {
   "cell_type": "code",
   "execution_count": 3,
   "id": "c51de938",
   "metadata": {},
   "outputs": [],
   "source": [
    "newsgroups_train = fetch_20newsgroups(subset='train', remove=('headers', 'footers', 'quotes'))\n",
    "newsgroups_test = fetch_20newsgroups(subset='test', remove=('headers', 'footers', 'quotes'))\n",
    "\n",
    "x_train = newsgroups_train.data\n",
    "y_train = newsgroups_train.target\n",
    "\n",
    "x_test = newsgroups_test.data\n",
    "y_test = newsgroups_test.target"
   ]
  },
  {
   "cell_type": "code",
   "execution_count": 4,
   "id": "666a1167",
   "metadata": {},
   "outputs": [],
   "source": [
    "# Count Vectorizer\n",
    "# Our model\n",
    "\n",
    "pipe_our = make_pipeline(\n",
    "    CountVectorizer(\n",
    "    stop_words='english',max_features=3000), \n",
    "    FunctionTransformer(lambda x: x.toarray()),  # We use the funciton transformer to convert our data to numpy arrays               \n",
    "    NaiveBayes()) # Our model: Naive Bayes\n",
    "pipe_our.fit(x_train, y_train)\n",
    "y_pred_count_our = pipe_our.predict(x_test)\n",
    "\n",
    "\n",
    "# Scikit model\n",
    "pipe_their = make_pipeline(CountVectorizer(\n",
    "    stop_words='english',max_features=3000),\n",
    "    FunctionTransformer(lambda x: x.toarray()),                \n",
    "    MultinomialNB()) # thier model: MultinomialNB\n",
    "pipe_their.fit(x_train, y_train)\n",
    "y_pred_count_their = pipe_their.predict(x_test)\n",
    "\n"
   ]
  },
  {
   "cell_type": "code",
   "execution_count": 5,
   "id": "d6d1e1ca",
   "metadata": {},
   "outputs": [],
   "source": [
    "# tfidf Vectorizer\n",
    "# Our model\n",
    "\n",
    "pipe_our = make_pipeline(TfidfVectorizer(\n",
    "    stop_words='english',max_features=3000),\n",
    "    FunctionTransformer(lambda x: x.toarray()),                \n",
    "    NaiveBayes()) \n",
    "pipe_our.fit(x_train, y_train)\n",
    "y_pred_tfidf_our = pipe_our.predict(x_test)\n",
    "\n",
    "\n",
    "# Scikit model\n",
    "pipe_their = make_pipeline(TfidfVectorizer(\n",
    "    stop_words='english',max_features=3000),\n",
    "    FunctionTransformer(lambda x: x.toarray()),                \n",
    "    MultinomialNB()) \n",
    "pipe_their.fit(x_train, y_train)\n",
    "y_pred_tfidf_their = pipe_their.predict(x_test)\n",
    "\n"
   ]
  },
  {
   "cell_type": "code",
   "execution_count": 6,
   "id": "b4a2dfd4",
   "metadata": {},
   "outputs": [
    {
     "name": "stdout",
     "output_type": "stream",
     "text": [
      "Count vectorizer\n",
      "Our accuracy score:    0.5569569835369\n",
      "Their accuracy score:  0.5574880509825\n",
      "\n",
      "Tfidf vectorizer\n",
      "Our accuracy score:    0.6233404142326\n",
      "Their accuracy score:  0.6233404142326\n"
     ]
    }
   ],
   "source": [
    "print(\"Count vectorizer\")\n",
    "print(f\"Our accuracy score:    {round(accuracy_score(y_test, y_pred_count_our), 13)}\")\n",
    "print(f\"Their accuracy score:  {round(accuracy_score(y_test, y_pred_count_their), 13)}\")\n",
    "print()\n",
    "print(\"Tfidf vectorizer\")\n",
    "print(f\"Our accuracy score:    {round(accuracy_score(y_test, y_pred_tfidf_our), 13)}\")\n",
    "print(f\"Their accuracy score:  {round(accuracy_score(y_test, y_pred_tfidf_their), 13)}\")"
   ]
  },
  {
   "cell_type": "markdown",
   "id": "93e878ac",
   "metadata": {},
   "source": [
    "#### We got almost idencitcal score as the native scikit model!\n",
    "Now we will plot the learning curve."
   ]
  },
  {
   "cell_type": "code",
   "execution_count": 7,
   "id": "66f26589",
   "metadata": {},
   "outputs": [],
   "source": [
    "import matplotlib.pyplot as plt\n",
    "\n",
    "train_sizes, train_scores, validation_scores  = learning_curve(\n",
    "    pipe_their, \n",
    "    x_train,\n",
    "    y_train,\n",
    "    train_sizes = np.linspace(0.1, 1.0, 10), #we take 10 points of measure\n",
    "    \n",
    "\n",
    ")"
   ]
  },
  {
   "cell_type": "code",
   "execution_count": 9,
   "id": "08208f58",
   "metadata": {},
   "outputs": [
    {
     "data": {
      "image/png": "[encoded data removed]",
      "text/plain": [
       "<Figure size 576x360 with 1 Axes>"
      ]
     },
     "metadata": {
      "needs_background": "light"
     },
     "output_type": "display_data"
    }
   ],
   "source": [
    "train_scores_mean = 1 - train_scores.mean(axis = 1)  # substract 1 because we want to see the error\n",
    "validation_scores_mean = 1 - validation_scores.mean(axis = 1)   # substract 1 because we want to see the error\n",
    "\n",
    "plt.figure(figsize = (8,5))\n",
    "\n",
    "plt.plot(train_sizes, train_scores_mean, label = 'Training error') #plot the training error\n",
    "plt.plot(train_sizes, validation_scores_mean, label = 'Validation error') #plot the validation error\n",
    "\n",
    "plt.ylabel('Error', fontsize = 14)\n",
    "plt.xlabel('Training set size', fontsize = 14)\n",
    "title = 'Learning curve for a multinomial bayes model'\n",
    "plt.title(title, fontsize = 18, y = 1.03)\n",
    "plt.ylim(0,1)\n",
    "plt.xlim(1000,9000)\n",
    "plt.legend()\n",
    "plt.show()"
   ]
  },
  {
   "cell_type": "markdown",
   "id": "97c2f6e4",
   "metadata": {},
   "source": [
    "This model has high variacne and low bias becuase of the shape of the graph.\n",
    "The training error and then cross-validation error are quite low therfore it is low bias.\n",
    "The differences between the training error and cross-validation error are quite sparse therfore it is high variance."
   ]
  },
  {
   "cell_type": "code",
   "execution_count": null,
   "id": "a87354a4",
   "metadata": {},
   "outputs": [],
   "source": []
  }
 ],
 "metadata": {
  "kernelspec": {
   "display_name": "Python 3 (ipykernel)",
   "language": "python",
   "name": "python3"
  },
  "language_info": {
   "codemirror_mode": {
    "name": "ipython",
    "version": 3
   },
   "file_extension": ".py",
   "mimetype": "text/x-python",
   "name": "python",
   "nbconvert_exporter": "python",
   "pygments_lexer": "ipython3",
   "version": "3.7.9"
  }
 },
 "nbformat": 4,
 "nbformat_minor": 5
}
